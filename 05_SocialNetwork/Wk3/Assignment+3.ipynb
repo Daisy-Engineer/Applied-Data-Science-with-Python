{
 "cells": [
  {
   "cell_type": "markdown",
   "metadata": {},
   "source": [
    "---\n",
    "\n",
    "_You are currently looking at **version 1.2** of this notebook. To download notebooks and datafiles, as well as get help on Jupyter notebooks in the Coursera platform, visit the [Jupyter Notebook FAQ](https://www.coursera.org/learn/python-social-network-analysis/resources/yPcBs) course resource._\n",
    "\n",
    "---"
   ]
  },
  {
   "cell_type": "markdown",
   "metadata": {},
   "source": [
    "# Assignment 3\n",
    "\n",
    "In this assignment you will explore measures of centrality on two networks, a friendship network in Part 1, and a blog network in Part 2."
   ]
  },
  {
   "cell_type": "markdown",
   "metadata": {},
   "source": [
    "## Part 1\n",
    "\n",
    "Answer questions 1-4 using the network `G1`, a network of friendships at a university department. Each node corresponds to a person, and an edge indicates friendship. \n",
    "\n",
    "*The network has been loaded as networkx graph object `G1`.*"
   ]
  },
  {
   "cell_type": "code",
   "execution_count": 7,
   "metadata": {},
   "outputs": [],
   "source": [
    "import networkx as nx\n",
    "\n",
    "G1 = nx.read_gml('friendships.gml')"
   ]
  },
  {
   "cell_type": "markdown",
   "metadata": {},
   "source": [
    "### Question 1\n",
    "\n",
    "Find the degree centrality, closeness centrality, and normalized betweeness centrality (excluding endpoints) of node 100.\n",
    "\n",
    "*This function should return a tuple of floats `(degree_centrality, closeness_centrality, betweenness_centrality)`.*"
   ]
  },
  {
   "cell_type": "code",
   "execution_count": 6,
   "metadata": {},
   "outputs": [
    {
     "data": {
      "text/plain": [
       "(0.0026501766784452294, 0.2654784240150094, 7.142902633244772e-05)"
      ]
     },
     "execution_count": 6,
     "metadata": {},
     "output_type": "execute_result"
    }
   ],
   "source": [
    "def answer_one():\n",
    "        \n",
    "    # Your Code Here\n",
    "    degree_centrality = nx.degree_centrality(G1)[100]\n",
    "    clsnss_centrality = nx.closeness_centrality(G1)[100]\n",
    "    btwn_centrality = nx.betweenness_centrality(G1, endpoints=False, normalized=True)[100]\n",
    "    return degree_centrality, clsnss_centrality, btwn_centrality\n",
    "# answer_one()"
   ]
  },
  {
   "cell_type": "markdown",
   "metadata": {},
   "source": [
    "<br>\n",
    "#### For Questions 2, 3, and 4, assume that you do not know anything about the structure of the network, except for the all the centrality values of the nodes. That is, use one of the covered centrality measures to rank the nodes and find the most appropriate candidate.\n",
    "<br>"
   ]
  },
  {
   "cell_type": "markdown",
   "metadata": {},
   "source": [
    "### Question 2\n",
    "\n",
    "Suppose you are employed by an online shopping website and are tasked with selecting one user in network G1 to send an online shopping voucher to. We expect that the user who receives the voucher will send it to their friends in the network.  You want the voucher to reach as many nodes as possible. The voucher can be forwarded to multiple users at the same time, but the travel distance of the voucher is limited to one step, which means if the voucher travels more than one step in this network, it is no longer valid. Apply your knowledge in network centrality to select the best candidate for the voucher. \n",
    "\n",
    "*This function should return an integer, the name of the node.*"
   ]
  },
  {
   "cell_type": "code",
   "execution_count": 8,
   "metadata": {
    "scrolled": true
   },
   "outputs": [
    {
     "data": {
      "text/plain": [
       "105"
      ]
     },
     "execution_count": 8,
     "metadata": {},
     "output_type": "execute_result"
    }
   ],
   "source": [
    "def answer_two():\n",
    "        \n",
    "    # Your Code Here\n",
    "    degree = nx.degree_centrality(G1)\n",
    "    return max(degree.keys(), key=lambda x:degree[x])\n",
    "# answer_two()"
   ]
  },
  {
   "cell_type": "markdown",
   "metadata": {},
   "source": [
    "### Question 3\n",
    "\n",
    "Now the limit of the voucher’s travel distance has been removed. Because the network is connected, regardless of who you pick, every node in the network will eventually receive the voucher. However, we now want to ensure that the voucher reaches the nodes in the lowest average number of hops.\n",
    "\n",
    "How would you change your selection strategy? Write a function to tell us who is the best candidate in the network under this condition.\n",
    "\n",
    "*This function should return an integer, the name of the node.*"
   ]
  },
  {
   "cell_type": "code",
   "execution_count": 9,
   "metadata": {
    "scrolled": false
   },
   "outputs": [
    {
     "data": {
      "text/plain": [
       "23"
      ]
     },
     "execution_count": 9,
     "metadata": {},
     "output_type": "execute_result"
    }
   ],
   "source": [
    "def answer_three():\n",
    "        \n",
    "    # Your Code Here\n",
    "    closeness = nx.closeness_centrality(G1)\n",
    "    return max(closeness.keys(), key=lambda x:closeness[x])\n",
    "# answer_three()"
   ]
  },
  {
   "cell_type": "markdown",
   "metadata": {},
   "source": [
    "### Question 4\n",
    "\n",
    "Assume the restriction on the voucher’s travel distance is still removed, but now a competitor has developed a strategy to remove a person from the network in order to disrupt the distribution of your company’s voucher. Your competitor is specifically targeting people who are often bridges of information flow between other pairs of people. Identify the single riskiest person to be removed under your competitor’s strategy?\n",
    "\n",
    "*This function should return an integer, the name of the node.*"
   ]
  },
  {
   "cell_type": "code",
   "execution_count": 12,
   "metadata": {},
   "outputs": [
    {
     "data": {
      "text/plain": [
       "333"
      ]
     },
     "execution_count": 12,
     "metadata": {},
     "output_type": "execute_result"
    }
   ],
   "source": [
    "def answer_four():\n",
    "        \n",
    "    # Your Code Here\n",
    "    betweeness = nx.betweenness_centrality(G1)\n",
    "    return max(betweeness.keys(), key=lambda x:betweeness[x])\n",
    "# answer_four()"
   ]
  },
  {
   "cell_type": "markdown",
   "metadata": {
    "collapsed": true
   },
   "source": [
    "## Part 2\n",
    "\n",
    "`G2` is a directed network of political blogs, where nodes correspond to a blog and edges correspond to links between blogs. Use your knowledge of PageRank and HITS to answer Questions 5-9."
   ]
  },
  {
   "cell_type": "code",
   "execution_count": 15,
   "metadata": {},
   "outputs": [
    {
     "data": {
      "text/plain": [
       "NodeView(('tsrightdominion.blogspot.com', 'rightrainbow.com', 'gregpalast.com', 'younglibs.com', 'blotts.org/polilog', 'marylandpolitics.blogspot.com', 'blogitics.com', 'thesakeofargument.com', 'joebrent.blogspot.com', 'thesiliconmind.blogspot.com', 'kippsblog.com', 'progressivetrail.org/blog.shtml', 'randomjottings.net', 'rightvoices.com', '84rules.blog-city.com', 'blogs.salon.com/0002874', 'alvintostig.typepad.com', 'notgeniuses.com', 'democratreport.blogspot.com', 'victorhanson.com', 'aldaron.modblog.com', 'talkleft.com', 'urbanecoinc.com/wordpress1', 'etalkinghead.com', 'archpundit.com', 'americanmuslim.blogs.com', 'travalex.blogspot.com', 'kicktheleftist.blogspot.com', 'thebarrexam.blogspot.com', 'atomicairship.com', 'prestoncaldwellblog.blogspot.com', 'antijohnkerry.blogspot.com', 'templeofjennifer.com/blog', 'mathewgross.com/blog', 'nomayo.mu.nu', 'rightcrusade.blogspot.com', 'angrychineseblogger.blog-city.com', 'translucence.org', 'toneofvoice.blogspot.com', 'cdharris.net', 'jetage.blogspot.com', 'newdemocrat.blogdrive.com', 'scha-den-freu-de.blogspot.com', 'turnspit.com', 'qoae.net', 'decksitters.my-expressions.com', 'thenudnikfile.blogspot.com', 'theaggpro.blogspot.com', 'quimundus.modblog.com', 'firstdownpolitics.com', 'asmodeus-space.com/weblog/blog/index.php', 'gmscorner.blogspot.com', 'home.earthlink.net/~juris_doctor_szh', 'blogodob.blogspot.com', 'viewpointjournal.com', 'crapiscommon.blogspot.com', 'thepoliticalanimal.com', 'billroggio.com/easongate', 'mirocat.com', 'stinkbait.blogspot.com', 'blog.mintruth.com', 'anoldsoul.blogspot.com', 'emergingdemocraticmajority.com', 'polipundit.com', 'davidsirota.com', 'sixmeatbuffet.com', 'ejectejecteject.com', 'republog.net', 'indepundit.com', 'vernsblog.thegillfamily.us:8180', 'metropol47.blogspot.com', 'btcnews.com/btcnews', 'interestingtimes.blogspot.com', 'meckz.net', 'jrogg.blogspot.com', 'digitaldissent.blogspot.com', 'chadster.capitalfocus.org', 'punditician.blogspot.com', 'watchandwait.blogspot.com', 'theblueview.blogspot.com', 'blog.dccc.org', 'home.earthlink.net/~kevin.omeara', 'therogueangel.com/blog', 'unusualhabits.blogspot.com', 'newappeal.blogspot.com', 'politicalwire.com', 'aintnobaddude.com', 'rightperspective.net', 'prosandcons.us', '750volts.blogspot.com', 'powerlineblog.com', 'bentcorner.blogspot.com', 'gerberatetra.blogspot.com', 'politicalthought.net', 'mikesamerica.blogspot.com', 'theworldaroundyou.com', 'andrightlyso.blogspot.com', 'madtechspeaks.blogspot.com', 'winceandnod.blogspot.com', 'thepeach.blogspot.com', 'angryfinger.org', 'nosmallplans.com/rants', 'kitchennetwork.blogspot.com', '100monkeystyping.com', 'mcwil.blogspot.com', 'loosecoin.blogspot.com', 'flagrancy.net', 'njsoccermom.blogspot.com', 'unconventionalwisdom.typepad.com', 'boycottsbg.com', 'smellyduck.blogspot.com', 'wampum.wabanaki.net', 'delraysteve.com/blog', 'anybodybutbushyall.blogspot.com', 'markch.blogspot.com', 'freedompress.blogspot.com', 'nationalcenter.org/blog.html', 'jewishworldreview.com', 'wonkette.com', 'blogicus.com', 'nelslindahl.net', 'blog.veggiedude.com', 'think2004.com', 'stephenbates.com/yellowdoggereldemocrat', 'happyhomeschooler.blog-city.com', 'watdanook.blogspot.com', 'papadoc.net/pinkflamingobar.html', 'dashnier.blogspot.com', 'theangryliberal.blogspot.com', 'politicalstrategy.org', 'wanderingmind.blog-city.com', 'xanga.com/eugene3', 'shortfatcorporal.blogspot.com', 'alphapatriot.com', 'headland.blogspot.com', 'conservativeresponse.com', 'jihadwatch.org', 'crankybastard.blogspot.com', 'conservativenation.us', 'smearbody.blogspot.com', 'gcruse.typepad.com', 'rising-hegemon.blogspot.com', 'andifeelfine.blogspot.com', 'americablog.org', 'boottotheskull.com', 'loadedmouth.com', 'alicublog.blogspot.com', 'dir.salon.com/topics/joe_conason/index.html', 'nycitystoop.com', 'home.earthlink.net/~jasider', 'jbcougar.blogspot.com', 'bushblog.us', 'hectorvex.blogspot.com', 'cynicalnation.com', 'rowhouselogic.com', 'punditguy.com', 'rhetoricrhythm.blogspot.com', 'shamelessantagonist.blogspot.com', 'politicswithrichard.blogspot.com', 'edmondthehun.blogspot.com', 'zeke01.blogspot.com', 'arancaytar.blogspot.com', 'riteturnonly.blogspot.com', 'ron-james.com/blog', 'getdexview.barrennorth.com', 'timblair.spleenville.com', 'poorjustin.blogspot.com', 'small-hands.blogspot.com', 'althippo.blogspot.com', 'vote4georgew.blogspot.com', 'larsonreport.com', 'ruminatethis.com', 'cmillertime.blogspot.com', 'winnegar.blog-city.com', 'cadat.nl', 'epubguy.blogs.com/epubguy', 'youngconservative.blogspot.com', 'insanepreschoolmom.blogspot.com', 'horologium.net', 'conservativerevolution.com', 'sarcasticsoutherner.blogspot.com', 'nicoladellarciprete.blogs.com', 'tepid-observer.blogspot.com', 'adonai.cc', 'ace.mu.nu', 'bakshi.us/redskunk', 'dems2004.com/blog', 'hotflashreport.com', 'home.midsouth.rr.com/joefish', 'quibbles-n-bits.com', 'democraticunderground.com', 'hoosierparliament.com', 'erikack.blogspot.com', 'dailyblatt.blogspot.com', 'aurelientt.blogspot.com', 'republicoft.typepad.com', 'o4tom.blogspot.com', 'xanga.com/lockjawtheogre', 'lahargis.blogspot.com', 'cbaker.org/blog', 'conservativeblogger.com', 'centinel.blogspot.com', 'rightwingnews.com', 'awards5.tripod.com/tarasblog', 'chiron.typepad.com', 'borgardblog.blogspot.com', 'fringeblog.com', 'newstrolls.com', 'tedlinczak.com', 'jameswolcott.com', 'bitheads.blogspot.com', 'cybermenace.blogspot.com', 'smithersmpls.com', 'gindy.blogspot.com', 'keithy1028.bravejournal.com', 'gevkaffeegal.typepad.com/the_alliance', 'massachusetts-liberal.com', 'gccpundit.blogspot.com', 'sweetgrrrl.blogspot.com', 'stmonk.blogspot.com', 'catscape.com', 'franklog.com', 'johnnynobody.blogspot.com', 'deansjournal.blogspot.com', 'progressiveink.com/bloggers.php', 'evilpundit.com', 'ltobs.blogspot.com', 'pacificviews.org', 'palominas.blogspot.com', 'digital-democrat.blogspot.com', 'schadelmann.com', 'blogsforbush.com', 'dohiyimir.typepad.com', 'grassrootsmom.blogspot.com', 'r21online.com', 'onhappiness.crimsonblog.com', 'blogsofwar.com', 'dgci.blog-city.com', 'zeke01.typepad.com', 'rightmoment.blogspot.com', 'scoobiedavis.blogspot.com', 'gopandcollege.blogspot.com', 'blueoregon.com', 'slingsnarrows.erudite-absurdity.com', 'stonyfield.com/weblog/bovinebugle/index.html', 'emergingdemocraticmajorityweblog.com/donkeyrising', 'commonsenserunswild.typepad.com', 'debunker.net', 'wtpm.blogspot.com', 'philvbblog.blogspot.com', 'elissa.typepad.com', 'windsofchange.net', 'myaisling.blogspot.com', 'brunon.blogspot.com ', 'electricvenom.com', 'thingsasitis.net', 'myworldview034.blogspot.com', 'nastyboys.blogspot.com', 'badattitudes.com/mt', 'etherealgirl.blogspot.com', 'ironmouth.com', 'hughhewitt.com', 'fearfulsymmetry.blogspot.com', 'stonyfield.com/weblog/strongwomendailynews/index.html', 'woneffe.typepad.com', 'urbandemocracy.blogspot.com', 'jimtreacher.com', 'truedemocrat.blogspot.com', 'd-42.com', 'selfish-souls.com/blog', 'weblogs.bakshi.us/redskunk', 'iraqthemodel.blogspot.com', 'ludis.blogspot.com', 'madamepresident2020.blogspot.com', 'therinsecycle.com', 'bidinotto.journalspace.com', 'fairshot.org', 'angrygwn.blogspot.com', 'kellipundit.blogspot.com', 'buckeyepundit.blogspot.com', 'juancole.com', 'hiddennook.blogspot.com', 'metallicity.com/mb.asp', 'xnerg.blogspot.com', 'juliusblog.blogspot.com', 'eltcamerica.blogspot.com', 'thepaytons.org/essays/considerettes', 'grupo-utopia.com/blog/isou', 'gadflyer.com', 'economicswithaface.com/weblog', 'tweetpetite.blogspot.com', 'jcchurch.blogspot.com', 'crankyneocon.com/crankyneocon', 'maybeithinktoomuch.com', 'blithered.blogspot.com', 'made4theinternet.blogspot.com', 'libertarianjackass.blogspot.com', 'annika.mu.nu', 'profgoose.blogspot.com', 'rightwingbastardo.blogspot.com', 'mathewgross.com', 'talkshowamerica.blogspot.com', 'neoconswatch.blogspot.com', 'permanentred.com', 'maultasch.us', 'martydee.com/poligov', 'therightcoast.blogspot.com', 'stillfighting.blogspot.com', 'robbernard.com', 'karmicsoup.blogspot.com', 'presidentreagan.info/discussion', 'orthogonian.blogspot.com', 'danzfamily.com', 'homepage.mac.com/jpbarr/myblog', 'politicalmusings.net', 'bryan08.tk', 'needlenose.com', 'fiercepoet.com', 'popstalin.com/news', 'anothervrwc.blogspot.com', 'thetalentshow.org', 'labandadelbuko.ilcannocchiale.it', 'jadedreality.blogspot.com', 'twentyfirstcenturyrepublican.blogspot.com', 'bloganonymous.com', 'mycatharsis.com', 'beastsbelly.blogspot.com', 'billhobbs.com', 'oliphantparts.org/blog', 'garrulus.ilcannocchiale.it', 'midguard.blogspot.com', 'politicalanimals.blogspot.com', 'thebluestate.com', 'scripting.com', 'dystopia.blog-city.com', 'ludovicspeaks.typepad.com/real_deal', 'reynardfox.com', 'holecard.blogspot.com', 'section-31.blogspot.com', 'qando.net', 'folkbum.blogspot.com', 'markheimonen.blogspot.com', 'tuckereskew.typepad.com', 'jeffblanco.blogdrive.com', 'activistchat.com/blogiran', 'orient-lodge.com', 'fuckthisblog.blogspot.com', 'blog.iainlindley.com', 'lettherebepeace.blogspot.com', 'cbcbcbcb.blogspot.com', 'ergio.blogspot.com', 'hobsonschoice.us', 'americaindenial.com/?q=node/feed', 'progressivedialogue.com', 'demoliberal.blogspot.com', 'streetlog.typepad.com', 'calpoly.edu/~doleary/blog.htm', 'thedonovan.com', 'centerpiece.blogspot.com', 'stitt.blogspot.com', 'julietterossant.com/superchefblog/superchefblog.html', 'clarified.blogspot.com', 'liberationlearning.blogspot.com', 'theapologist.blogspot.com', 'higherpieproductions.com', 'skipperstyle.com', 'theyetimn.blogspot.com', 'roil.blogspot.com', 'righthandthief.blogspot.com', 'stalinism.com/shot-by-both-sides', 'messopotamian.blogspot.com', 'angrydesi.typepad.com', 'mantic.squarespace.com', 'dolphinsdock.com/blog', 'counterspin.blogspot.com', 'cnle.net', 'tonyknowles.com/blog.html', 'newleftblogs.blogspot.com', 'lashawnbarber.com', 'johnkerrymustlose.com', 'progressivecyclone.blogspot.com', 'tomburka.com', 'pejmanesque.com', 'moorewatch.com', 'acepilots.com/mt', 'unodemocrats.com/blog', 'itsabitmuch.blogspot.com', 'nomoremister.blogspot.com', 'hal9000report.blogdrive.com', 'my2cent.blogspot.com', 'wizbangblog.com', 'rfburnhertz.net/rf_blog', 'wynterstoner.blogspot.com', 'politics.feedster.com', 'home.earthlink.net/~fsrhine', 'themeofabsence.com', 'politicaltracker.com', 'freerepublic.com', 'angryhomo.blogspot.com', 'andymatic.com', 'blackmanforbush.blogspot.com', 'blog01.kintera.com/dnccblog', 'tom-hanna.org', 'deadcantrant.com/blog', 'blogs.blogosphere.ca/brock', 'hugozoom.blogspot.com', 'thefulcrum.blogspot.com', 'magnificentfreedom.us', 'thunewatch.squarespace.com', 'depressedlonelybored.typepad.com', 'revoltnow-us.blogspot.com', 'kausfiles.com', 'roughstock.blogspot.com', 'dewar.journalspace.com', 'samizdata.net/blog', 'cynscorion.com/v-web/b2/index.php', 'americankernel.com', 'astroturf.uni.cc', 'babytrollblog.com', 'polizeros.com', 'collegedems.com/blog', 'freedomofthought.com', 'blogfreeordie.blogspot.com', 'leavethematrix.blogspot.com', 'contrapositive.blogspot.com', 'chestnut_tree.blogspot.com', 'nathancallahan.com', 'scottcsmith.net', 'tesibria.typepad.com/democracy_is_coming', 'thesnooter.blogspot.com', 'tobyemden.blogspot.com', 'sedenteanimo.com', 'manifestcontent.net', 'drugwarmovie.com/drugwarmovie/weblog/blogger.html', 'mypetjawa.mu.nu', 'blosteam.blogspot.com', 'obsidianwings.blogs.com', 'spectatorsport.blogspot.com', 'usliberals.about.com', 'noseyonline.com', 'michael124.blogspot.com', 'everythingiknowiswrong.com', 'dailypundit.com', 'netweed.com/postmodernanarchist', 'grassrootsnation.com', 'discerningtexan.blogspot.com', 'ignatz.blogspot.com', 'aboutpolitics.blogspot.com', 'thetalkingdog.com', 'misschin.bloggage.com', 'betsyspage.blogspot.com', 'skinmeister.name', 'bodyandsoul.typepad.com', 'agonist.org', 'stevegilliard.blogspot.com', 'propagandamachine.blogspot.com', 'asiegeofherons.blogspot.com', 'bushmisunderestimated.blogspot.com', 'nonboxthinking.blogspot.com', 'tristero.blogspot.com', 'zeph1z.tripod.com/blog', 'nicedoggie.net', 'littlegreenfootballs.com/weblog/weblog.php', 'rightword.blogspot.com', 'myechochamber.blogspot.com', 'democratvoice.org', 'conservativevor.blogdrive.com', 'lightupthedarkness.org', 'parabasis.typepad.com', 'mdcbowen.org/cobb', 'prolifeblogs.com', 'littletinylies.com', 'washingtonmonthly.com', 'toteota.blogspot.com', 'theneo-progressive.blogspot.com', 'jg-spot.blogspot.com', 'reggiescorner.blogspot.com', 'theantibush.org', 'newsjungle.blogspot.com', 'lefterer.com', 'rudepundit.blogspot.com', 'criticalviewer.com', 's88172659.onlinehome.us/spockosbrain.html', 'restoreamerica.blogspot.com', 'romeocat.typepad.com', 'blog01.kintera.com/emilysblog', 'mhking.mu.nu', 'njfordemocracy.org', 'eastbaykerry.com', 'frederickclarkson.com', 'literatevalues.org/virtue.htm', 'thelastword.blogdrive.com', 'midwestrightwingers.blogspot.com', 'hereswhatsleft.typepad.com/home', 'dems2004.org/blog', 'americanthinker.com', 'brianscott.blogspot.com', 'resistoppression.blogspot.com', 'members.cox.net/aaronjohn', 'john.hoke.org', 'allthingsmark.com', 'news-opinion.blog-city.com', 'home.houston.rr.com/skeptical', 'spydrzweb.blogspot.com', 'renpro.kwcom.net', 'oddhours.blogspot.com', 'home.earthlink.net/~cdowner', 'sethdmichaels.com', 'takebackthemedia.com', 'homicidalmaniak.com', 'crankylittleblog.blogspot.com', 'quimundus.squarespace.com', 'teenageenthusiast.blogspot.com', 'loud-liberal.blogspot.com', 'americanpolitics.com', 'marknicodemo.blogspot.com', 'kydem.blogspot.com', 'bradcarson.com/blog', 'rosenblog.com', 'txfx.net', 'thecommonvirtue.com', 'politicalinsanity.com', 'conservativeobserver.blogspot.com', 'polialaska.blogspot.com', 'airjun.blogspot.com', 'iowageek.blogspot.com', 'catchingsmoke.blogspot.com', 'openeyesmemo.com', 'justalkin.us', 'duckdaotsu.blogspot.com', 'disintegrator.blogspot.com', 'elfoflight.blogspot.com', 'asmallvictory.net', 'greaterdemocracy.org', 'athena.blogs.com', 'katyggls.blogspot.com', 'strategicintelligence.blogspot.com', 'ladymac.com', 'votekerryedwards2004.blogspot.com', 'lendmesomesugar.blogs.com/shut_up_already', 'ilovecynics.com', 'posptect.org/weblog', 'henerd.com', 'question-dean.blogspot.com', 'gopbloggers.org', 'iflipflop.com', 'truthprobe.blogspot.com', 'speculativepolitics.blogspot.com', 'gotdesign.blogspot.com', 'boston.com/news/blogs/dnc', 'shallows.blogspot.com', 'quante.blogspot.com', 'garbage-house.com', 'kurtkk.blogspot.com', 'daisycutter.blogspot.com', 'kalblog.com', 'mobile.blogcastlive.com', 'madanthony.org', 'proponentofreason.blogspot.com', 'ibrutus.com', 'decision08.blogspot.com', 'offthekuff.com/mt', 'greendogdemocrat.blogspot.com', 'janm.blogspot.com', 'nationalnewsregister.com/modules/wordpress', 'healingiraq.blogspot.com', 'liberaleric.blogspot.com', 'mostlycajun.com', 'cubanstories.blogspot.com', 'newsbloggers.blogspot.com', 'slantpoint.com', 'bernardmoon.blogspot.com', 'minagahet.blogspot.com', 'itznewstome.blogspot.com', 'bluelemur.com', 'messengerpuppet.com/blog', 'stzman.org/blog', 'anywhichway.net', 'nerepublican.blogspot.com', 'literarybargainville.net', 'limericksavant.blogspot.com', 'slublog.blogspot.com', 'msnbc.msn.com/id/3449870', 'seeingtheforest.com', 'erickohn.com', 'sinfactor.blogspot.com', 'matthewyglesias.com', 'thetarpit.blogspot.com', 'rednyc.blogspot.com', 'andrewsullivan.com', 'beautifulatrocities.com', 'ghostofaflea.com', 'interestingtimes.typepad.com', 'sondrak.com', 'oldfashionedwhippersnapper.blogspot.com', 'sayanythingblog.com', 'ocd-gx-liberal.blogspot.com', 'claytoncorner.blogspot.com', 'lastdaysoftherepublic.fatoprofugus.net', 'billmon.org', 'thewritewing.blogspot.com', 'therightblog.blogspot.com', 'shadydowns.blogspot.com', 'discountblogger.com', 'whirlingbuffalo.com/creative-spirits.htm', 'amptoons.com/blog', 'nationalreview.com/frum/frum-diary.asp', 'bamapachyderm.blogspot.com', 'jokerstotheright.blogspot.com', 'pennsylvanianinexile.blogspot.com', 'winthewest.blogspot.com', 'radio.weblogs.com/0131587/categories/flush', 'demagogue.blogspot.com', 'alphapredator.com/wdtgw.htm', 'retrogrouch.net', 'sharpeblog.cybercatholics.com', 'musicfromthebluelight.com/b', 'swamiuptown.com', 'risinghegemon.blogspot.com', 'newcounterculture.com/log', 'americansforbayh.blogspot.com', 'truthlaidbear.com', 'rightstate.blogspot.com', 'estropundit.blogspot.com', 'jamiefeyrer.com', 'adeimantus.blogspot.com', 'simbaud.blogspot.com', 'saxa.blogspot.com', 'thecrankfiles.blogspot.com', 'uberdude.blogspot.com', 'coxandforkum.com', 'blogs.salon.com/0003364', 'tomherod.blogspot.com', 'therostra.blogspot.com', 'theconservativezone.com', 'chrenkoff.blogspot.com', 'laughatliberals.com', 'underscorebleach.net/content/jotsheet', 'babylon.squarespace.com', 'thomasgalvin.blogspot.com', 'corrente.blogspot.com', 'politicalvicesquad.blogspot.com', 'alarmingnews.com', 'millers_time.typepad.com', 'the-torch.com', 'eeg3.com', 'leftcoastconservative.blogspot.com', 'doubter.blogspot.com', 'bigenchilada.org', 'mc256.blogspot.com', 'nickiegoomba.blogspot.com', 'stolenthunder.blogspot.com', 'patriotism101.blogspot.com', 'courtney5.us/drew', 'truthbenotproud.blogspot.com', 'civilcommotion.com', 'dizzy-girl.net/index.php', 'simplyappalling.blogspot.com', 'billsrants.blogspot.com', 'jchristopherfeng.com', 'rant.st', 'nationalreview.com/thecorner', 'swfwithattitude.blogspot.com', 'itlookslikethis.blogeasy.com', 'theglitteringeye.com', 'montages.blogspot.com', 'dailywarnews.blogspot.com', 'thetemplarpundit.blogspot.com', 'justmark.com', 'variousorthodoxies.com', 'talesofawanderingmind.blogspot.com', 'leftnuts.com/runcms/modules/news', 'amigo13.blogspot.com', 'bluestates.blogspot.com', 'americablog.blogspot.com', 'theliberalslies.blogspot.com', 'inthebullpen.com', 'islanddave.blogspot.com', 'rightwingdude.squarespace.com', 'thewilson.blogspot.com', 'beldar.blogs.com/beldarblog', 'arkanssouri.blogspot.com', 'grownups.blogspot.com', 'marksteyn.com', 'vapolitics.info', 'digbysblog.blogspot.com', 'alittlemoretotheright.com', 'jewssansfrontieres.blogspot.com', 'thedailygoodnews.com', 'blog.glinka.com', 'blogslut.com', 'bopnews.com', 'nakedrepublic.com', 'neverwrongnever.blogspot.com', 'sccdp.org/blog.php', 'patriotsforbush.com', 'rkook.blogspot.com', 'democrats.org/blog', 'americanchronicle.blogspot.com', 'nielsenhayden.com/makinglight', 'ayerdis.com/rants.php', 'nerofiddled.blogspot.com', 'georgewbush.com', 'southernappeal.blogspot.com', 'soundingthetrumpet.blogspot.com', 'shakingspears.blogspot.com', 'in-sub-ordination.blogspot.com', 'summation.net', 'uwaythinks.blogspot.com', 'brainshavings.com', 'rightwingbob.com', 'nebursworld.blogspot.com', 'cptnwinky.com', 'mcpheet.com', 'armchairgeneralist.typepad.com', 'ratherbiased.com/news', 'blackwingleftbird.blogspot.com', 'powerpundit.com', 'livinginbabylon.blogspot.com', 'atrios.blogspot.com', 'beefalwayswins.blogspot.com', 'batr.org/commentary.html', 'jeremybrendan.blogspot.com', 'patriot-paradox.com', 'itsafterglow.blogspot.com', 'downtownlad.blogspot.com', 'thatcoloredfellasweblog.bloghorn.com', 'leftinthereign.blogspot.com', 'bullmooserepublicans.com/blog', 'chainik_hocker.blogspot.com', 'althouse.blogspot.com', 'mtvirtus.blogspot.com', 'thislousytshirt.net', 'campaignofone.org/blog/index.asp', 'ihatepatrobertson.com', 'astrosoup.blogspot.com', 'blog.mytechaid.com', 'californiaconservatives4truth.blogspot.com', 'americanjihad.blogspot.com', 'rncnyc2004.blogspot.com', 'realitybasednation.com', 'pennywit.com/drupal', 'conservativedhc.blogspot.com', 'theagitator.blogspot.com', 'imao.us', 'jointhecrowd.blogspot.com', 'townhall.com/clog', 'wehavesomeplanes.blogspot.com', 'emilythedog.blogspot.com', 'brendonsspiderhole.blogspot.com', 'elderbearden.blogspot.com', 'watchingthewatchers.org', 'portapulpit.com', 'wildweasel.blog-city.com', 'xanga.com/home.aspx?user=phknrocket1k', 'thejessefactor.blogspot.com', 'diggersrealm.com/mt', 'retiredwarrant.blogdrive.com', 'rogerlsimon.com', 'dogwooddreams.com/serendipity', 'members.aol.com/ourprez08', 'mudvillegazette.com', 'thebloghill.blogspot.com', 'bellusbellum.info', 'askhoudari.blogspot.com', 'bloghogger.blogspot.com', 'lawguy.blogspot.com', 'marcbrazeau.blogspot.com', 'netpolitik.blogspot.com', 'takeactionmichigan.blog-city.com', 'mydd.com', 'kensain.com', 'martadonayre.com', 'achicknamedmarzi.com', 'theblogwarrior.blogspot.com', '40ozblog.blogspot.com', 'americasteen.tk', 'roxanne.typepad.com', 'datingrepublicans.com', 'hellofromparis.blogspot.com', 'jpandre.blogspot.com', 'laughingwolf.net', 'daddypundit.blogspot.com', 'cayankee.blogs.com', 'digitaljay.blogspot.com', 'longdukdong44.blogspot.com', 'rabner.blogspot.com', 'cjh9999.blog-city.com', 'one38.org', 'claycalhoun.com', 'blogspirator.blogspot.com', 'homespunbloggers.blogspot.com', 'liberalangst.org', 'claudialong.com/blog', 'michaelsavagelistener.blog-city.com', 'gotzfamily.org/weblog', 'all-encompassingly.com', 'life.laptoplobbyist.com', 'bluestateredstate.blogspot.com', 'meanspirit.blogspot.com', 'charlineandjamie.com/dotnetweb01a/blogdisplay.aspx?logname=jamie&logcatid=48', 'shotofpolitics.blogspot.com', 'strangedoctrines.typepad.com', 'sequiturnon.blog-city.com', 'oppb.com', 'shoegal.modblog.com', 'grantb88.com', 'nathannewman.org/log', 'johngalt.us', 'trainorphans.org', 'jacklewis.net', 'thinkingright.blogspot.com', 'outsidethebeltway.com', 'annatopia.com/home.html', 'politicalmonitor.us/blog', 'suburbanguerrilla.blogspot.com', 'patterico.com', 'mayflowerhill.blogspot.com', 'danieldrezner.com/blog', 'brilliantatbreakfast.blogspot.com', 'niagarabuzz.com', 'lancehaun.com', 'scrawlville.com', 'home.earthlink.net/~heavy-duty', 'mahablog.com', 'legendgames.net/myblog.asp', 'nationalreview.com/thecorner/corner.asp', 'hellskitchennyc.blogspot.com', 'alamodispatches.blogspot.com', 'nephandus.com/blog.php', 'ccs178.com', 'stan-istan.blogspot.com', 'thespoonsexperience.com', 'progressivesociety.com/blog', 'ibe.blogspot.com', 'redstatealliance.blogspot.com', 'revone.net/jarhead', 'michaelphillips.blogspot.com', 'nielsenhayden.com/electrolite', 'planetsuz.blogspot.com', 'regimechangeiran.com', 'imprescindibile.ilcannocchiale.it', 'godubya.com', 'politicalpie.modblog.com', 'nearouterheaven.blogspot.com', 'sgtstryker.com', 'blindmindseye.com', 'crookedtimber.org', 'vondollens.us', 'uberddue.blogspot.com', 'swingleft.blogspot.com', 'markarkleiman.com', 'therightwingconspiracy.org', 'savetheus.blogspot.com', 'soonerthought.com', 'hotflashesfromthecampaigntrail.blogspot.com', 'blogforamerica.com', 'bowles2004.com/weblog', 'philoponia.blogspot.com', 'dartblog.com', 'smarthomeschool.com', 'diplomadic.blogspot.com', 'theimmoralminority.blogspot.com', 'warriorscreed.000k3.com', 'johnmccrory.com', 'charleypatton.blogspot.com', 'thinkingrocks.blogspot.com', 'politicalhyperbole.blogspot.com', 'tseytlin.blogspot.com', 'home.earthlink.net/~goodnoughp/index.html', 'confederateyankee.blogspot.com', 'tagorda.com', 'stevecopy.blogharbor.com', 'freakinliberals.com/blog_a', 'bushlies.net/pages/10/index.htm', 'carpetblogger.com', 'americandigest.org', 'someonetakethewheel.blogspot.com', 'njn-blogogram.blogspot.com', 'brianhull.net', 'fraterslibertas.com', 'pattymurray.com/blog.php', 'electablog.com', 'presidentboxer.blogspot.com', 'deanesmay.com', 'jimgilliam.com', 'thatgoodnight.com', 'thirdredeye.blogspot.com', 'steveguy.me.uk', 'undercaffeinated.com', 'dgci.net', 'blogsagainsthillary.com', 'xanga.com/allegrad', 'southernwatch.blogspot.com', 'forewarned.blogspot.com', 'truthliesandcommonsense.blogspot.com', 'kerrytalkingpoints.blogspot.com', 'electionprojection.com', 'spreadingunderstanding.blogspot.com', 'jquinton.com', 'randz.net', 'kcdems.blogspot.com', 'gloomanddoom.blogspot.com', 'hereswhatsleft.typepad.com', 'livejournal.com/users/hoptkov', 'vocis.com/frank', 'pandagon.net', 'homepage.mac.com/georgia.nesmith/iblog/index.html', 'pollsterseek.blogspot.com', 'lt-smash.us', 'williamwebbdotorg.blogspot.com', 'heathenfolk.warblogs.com/blog', 'arkansastonight.com', 'civicactions.com', 'stagefour.typepad.com/commonprejudice', 'robschumacher.blogspot.com', 'mwilliams.info', 'elevendayempire.com/movabletype', 'seetheforest.blogspot.com', 'dneiwert.blogspot.com', 'philosophers-stone.blogspot.com', 'rightwingjournal.blogspot.com', 'x-pollen.com/many/blog.html', 'hellafaded.blogspot.com', 'drudgereport.com', 'sulliwatch.blogspot.com', 'homepage.mac.com/elisa_camahort/iblog', 'donspoliticalblog.blogspot.com', 'elayneriggs.blogspot.com', 'professorbainbridge.com', 'sebourn.com/weblog', '4lina.tblog.com', 'wrighthot.com', 'dalythoughts.com', 'poorandwhite.blogspot.com', 'heysucka.blogspot.com', 'nftl.blogspot.com', 'adviceforlefty.blogspot.com', 'incite1.blogspot.com', 'nofearoffreedom.blogspot.com', 'notbush.com', 'praguewriter.typepad.com', 'gisleson.com/blog', 'jospehsmind.blogspot.com', 'leanleft.com', 'maggiespants.co.uk', 'southknoxbubba.net/skblog', 'ideastockexchange.com/essays/laubs-mike-interest-politics-web-log.htm', 'farleft.blogspot.com', 'waveflux.net', 'balloon-juice.com', 'peskytherat.com/pesky', 'greatestjeneration.com', 'allahpundit.com', 'thismodernworld.com', 'thecarpetbaggerreport.com', 'paulchasman.com', 'heavylifting.blogspot.com', 'king-of-fools.com', 'rooksrant.com', 'scrutinyhooligans.blogspot.com', 'jlynnsmith30.blogspot.com', 'smashingzero.blogspot.com', 'allspinzone.blogspot.com', 'officesmileman.com', 'hoeffelforsenate.com/blog', 'inez2004.com/blogs', 'ospolitics.org', 'fritzs-thoughts.blogspot.com', 'liberalavenger.com', 'kenshepherd.blogspot.com', 'doublespeakez.blogspot.com', 'conniptions.net', 'conservativessuck.blogspot.com', 'warandpiece.com', 'republicansbite.com', 'turnpikefeminist.com', 'swingstateproject.com', 'mercreport.blogspot.com', 'boffo.typepad.com', 'bigjourney.blogspot.com', 'rudyforfreeholder.org', 'drumwaster.com', 'cecile.squarespace.com', 'browncross.com/usualsuspects', 'markmeador.blogspot.com', 'luxeword.com', 'sadlyno.com', 'tuibguy.messagemonster.com', 'zebrax.blogs.com', 'rockpaperscissors.blogs.com', 'motgs.com', 'writehouse.us', 'thedumbdemocrat.blogspot.com', 'americanreport.blogspot.com', 'onetrueblog.com', 'alexpelan.blogspot.com', 'alamonation.blogspot.com', 'blubberhollow.com/blog', 'ivotedforgeorge.com', 'pajamajournalist.blogspot.com', 'dynamist.com/weblog', 'whopundit.blogspot.com', 'anonymoussources.blogspot.com', 'reachm.com/amstreet', 'phoblographer.com', 'sistertoldjah.com', 'vikingpundit.blogspot.com', 'blogforarizona.com', 'bobhayes.net', 'emptyisform.com', 'burntorangereport.com', 'absurd-canadian.blogspot.com', 'usdlaw.blogspot.com', 'criticalbill.blogspot.com', 'bkennelly.com/vox', 'virginiapolitics.blogspot.com', 'probitus.obrien4.net', '12thharmonic.com/wordpress', 'kiersten.connersax.com', 'poeticvalues.blogspot.com', 'dawnofnewamerica.blogspot.com', 'meateatingleftist.com', 'thisliberal.com', 'bartcop.com', 'bigfatroid.blogspot.com', 'texasbug.blogspot.com', 'noguru.tblog.com', 'idiosyncratictendencies.com', 'liberalthunderdome.blogspot.com', 'opiniontimes.blogspot.com', 'brutallyhonest.org', 'deathpenaltyusa.blogspot.com', 'senatorbarb.typepad.com', 'talkingpointsmemo.com', 'barkingdingo.blogspot.com', 'tom_thinks.blogspot.com', 'penheaded.blogspot.com', 'jadbury.com', 'journals.aol.com/breuvers/madashellnotgoingtotakeitanymore', 'slipofthepen.blogspot.com', 'southernrightwingextremist.blogspot.com', 'georgewbuy.blogspot.com', 'blog.kenlan.net', 'redmindbluestate.blogspot.com', 'wpblog.ohpinion.com', 'idlehandsmag.com/yellowdog04', 'digestiblenews.blogspot.com', 'johnnbrown.blogspot.com', 'home.att.net/~gentle.reader', 'phillybri.blogspot.com', 'drunkensamurai.blogspot.com', 'missourikid.blog-city.com', 'techtrend.com/blog/taranicole', 'conservativezone.blogspot.com', 'clubforgrowth.org/blog', 'michellemalkin.com', '95theses.blogspot.com', 'aceoftrumpblog.blogspot.com', 'web.utk.edu/~agroves', 'kiosan.blogharbor.com', 'yoder.ru', 'vodkapundit.com', 'calirep.blogspot.com', 'dems2000.net', 'irregulartimes.com/blogger.html', 'donkey2004.blogspot.com', 'margaretcho.com/blog/blog.htm', 'roadtosurfdom.com', 'pajamaeditors.blogspot.com', 'acertainslantoflight.blogspot.com', 'newdonkey.com', 'billrice.org', 'whyareweback.blogspot.com', 'red-harvest.blogspot.com', 'dailyhowler.com', 'deanocrats.com', 'howienfriends.blogspot.com', 'tallone.org', 'smirkingchimp.com', 'swiftreport.blogs.com', 'stirs-the-pot.blogspot.com', 'cemonitor.blogspot.com', 'fafblog.blogspot.com', 'pajamahadin.com', 'liberalreview.blogspot.com', 'bensworld.patriotforum.org', 'americandinosaur.blogspot.com', 'conservativedialysis.com', 'thevaticanofliberalism.com', 'enemykombatant.blogspot.com', 'volokh.com', 'abbadabbaduo.blogspot.com', 'patriotboy.blogspot.com', 'gopinsight.com', 'bigbloosky.blogspot.com', 'j-bradford-delong.net/movable_type', 'mediaprima.com/nv1962', 'conservativecitizen.blogspot.com', 'topviewnews.com/blog', 'mrstevebeers.blogspot.com', 'ofthemind.blogspot.com', 'wsrblood.typepad.com/wiserblog', 'poptext.blogspot.com', 'thelefthand.blogspot.com', 'sickofliberals.blogspot.com', 'gracefotography.com/graceblog/index.php', 'asian-nation.org/headlines/index.php', 'conpro.blogspot.com', 'radioequalizer.blogspot.com', 'baldilocks.typepad.com', 'windingroad.typepad.com', 'juntoboys.blogspot.com', 'wtf.mindsay.com', 'fromtheroots.org', 'greentit.com', 'node707.com', 'stix1972.blogspot.com', 'theamericanmind.com', 'newsnik.com', 'xanga.com/kerry4president', 'la4israel.org/wordpress', 'fidlet.com', 'mudandphud.blogspot.com', 'littlegreenfootballs.com/weblog', 'iwantmycountryback.org', 'battlegroundstates.blogspot.com', 'gillaand.blogspot.com', 'evangelicaloutpost.com', 'damntheman.net', 'robertp17.blogspot.com', 'laylasblog.com', 'conservativecat.com', 'stillmanvalley.org/aoo', 'thatliberalmedia.com', 'churchofcriticalthinking.com', 'vandyconservative.blogspot.com', 'markwarnerforpresident2008.blogspot.com', 'lorenjavier.blogspot.com', 'conservativepush.blogspot.com', 'battleground-wisconsin.blogspot.com', 'charlesking.blogspot.com', 'pardonmyenglish.com', 'prospect.org/weblog', 'piano-tuning.net/blog', 'americanfuture.typepad.com', 'scott-niven.com/saltwaterpizza', 'oipp.blogspot.com', 'leftwingnation.com', 'denbeste.nu', 'blue6golf.blogspot.com', 'spacedog26.blogspot.com', 'writingcompany.blogs.com/this_isnt_writing_its_typ', 'stcfoundation.blogspot.com', 'rogerailes.blogspot.com', 'truebluegal.blogspot.com', 'jmbzine.com', 'jinkythecat.blogspot.com', 'interested-participant.blogspot.com', 'leonards-digest.blogspot.com', 'cleancutkid.com', 'myleftbrain.com', 'rightonred.net', 'rittenhouse.blogspot.com', 'allanjenkins.typepad.com', 'coffee.ondragonswing.com', 'thelonedem.com', 'lashawnbarber.blogspot.com', 'jason.unitedworkers.org', 'adamtalib.blogspot.com', 'hategun.com', 'lowrentrat.blogdrive.com', 'right-magazine.com/blog', 'radikal_papi.pitas.com', 'republitarian.org', 'republicanresearchcouncil.blogspot.com', 'sarebabe.blogdrive.com', 'limecoconut.blogspot.com', 'lonewacko.com', 'tomcoburnisabigfatjerk.blogspot.com', 'republicanpower.blogspot.com', 'michaeltotten.com', 'karlhenderson.blogspot.com', 'demleft.blogspot.com', 'gullyborg.typepad.com', 'opiniontimes.com', 'waitingfordorothy.blogspot.com', 'itscomedowntothis.blogspot.com', 'endthenightmare.blogspot.com', 'gaijincory.com', 'maruthecrankpot.blogspot.com', 'perryvsworld.blogspot.com', 'dividedloyalties.net', 'americanworldview.tripod.com/weltansblog', 'thepoliticalteen.net', 'dummocrats.com', 'dadougster.blogspot.com', 'jperspective.com', 'iamaugustus.blogspot.com', 'bullmooseblog.com', 'captainsquartersblog.com/mt', 'madkane.com/notable.html', 'apologiesdemanded.blogspot.com', 'deserttusk.blogspot.com', 'inmyrightmind.com', 'raedinthemiddle.blogspot.com', 'hijkselur.blogspot.com', 'virginiaprogressive.blogspot.com', 'neoconservatives.blogspot.com', 'lefttimes.com', 'enlightenedbelle.blogspot.com', 'celluloid-wisdom.com/pw/', 'dygital.blogspot.com', 'a100wwe.blogspot.com', 'multitudes.typepad.com', 'patrickruffini.com', 'bluegrassroots.blogspot.com', 'mariestwocents.blogspot.com', 'werenotallincompetent.blogspot.com', 'nationalbird.net', 'theleftcoaster.com', 'trueconservative.typepad.com', 'snunes.blogspot.com', 'maxspeak.org/mt', 'nykola.com', 'dilusionl.blogspot.com', 'christian-patriot.blogspot.com', 'viewfromaheight.blogspot.com', 'isdl.weblogs.us', 'bettyblog.com', 'usademocrazy.blogspot.com', 'asilentrevolution.blogspot.com', 'conservativeeyes.blogspot.com', 'home.earthlink.net/~ur_blog', 'dailyrecycler.com/blog', 'martinipundit.com', 'squiggler.braveblog.com', 'ryanshead.com', 'livejournal.com/users/bambenek', 'warriorsblog.blogspot.com', 'ndnblog.org', 'whoviating.blogspot.com', 'redstate.org', 'totels.com/bush04', 'mickikrimmel.com/redcarpet', 'unfetteredmusings.blogspot.com', 'shetquaker.blog-city.com', 'oliverwillis.com', 'janegalt.net', 'matthewstinson.com/blog', 'techievampire.net/wppol', 'thepatriette.com', 'radgeek.com', 'iddybud.blogspot.com', 'lawdork.blogspot.com', 'halcyondays.info', 'answerguy.blogspot.com', 'futuraworkz.com', 'mindspring.com/~gsb3/blogger.html', 'elemming2.blogspot.com', 'thomaswharry.com', 'polstate.com', 'gaypatriot.blogspot.com', 'dailykos.com', 'hasidicgentile.org', 'mysterypollster.com/main', 'sonsoftherepublic.com', 'alternateworlds.blogspot.com', 'gopandthecity.blogspot.com', 'markschmitt.typepad.com/decembrist', 'religiousleft.blogspot.com', 'kristyandotherwise.blogspot.com', 'stevemacek.blogspot.com', 'journals.aol.com/lily990016/pissoffliberals', 'prayforbush.blogspot.com', 'dedspace.blogspot.com', 'rathergate.com', 'amradio.blogspot.com', 'dimmykarras.blogspot.com', 'cruelkev.blogspot.com', 'richmar.blogspot.com', 'patrickmcclarty.blogspot.com', 'rightreadingroom.com/index.php', 'gabeanderson.com/life', 'livejournal.com/~dailyapple', 'livejournal.com/users/jmhm', 'senorpez.com', 'pacdaily.com', 'hathaby.net/weblog.php', 'chiefsblog.blogspot.com', 'conservativepolitics.blogspot.com', 'readingpost.com', 'denisdekat.com', 'amleft.blogspot.com', 'slowplay.com', 'mixtersmix.blogspot.com', 'scrappleface.com', 'americandreamslost.blogspot.com', 'bradfriedman.com/bradblog', 'norbizness.com', 'joatmoaf.typepad.com/i_love_jet_noise', 'lagernik.blogspot.com', 'okieonthelam.com', 'xtremerightwing.net', 'devildawg.blogspot.com', 'kerryforpresident2008.blogspot.com', 'patriotblog.com', 'purplestates.blogspot.com', 'fooswah.com', 'ajbenjaminjr.blogspot.com', 'b-patton.blogspot.com', 'jdeeth.blogspot.com', 'pudentilla.blogspot.com', 'xianleft.blogspot.com', 'mementomoron.blogspot.com', 'joepublicus.blogspot.com', 'isaacspolitics.blogspot.com', 'home.att.net/~dbarnhill', 'jadbury.com/blog', 'yglesias.typepad.com/matthew', 'liquidlist.com', 'goose3five.blogspot.com', 'celluloid-wisdom.com/pw', 'philomathean.blogs.com', 'blogs.salon.com/0004024', 'rebrand-democrat.txfx.net', 'blog.willrobinson47.com', 'votervirginblog.blogspot.com', 'mediajunkie.com/edgewise', 'barcidhomily.com', 'rmcdaniel.blogspot.com', 'anncoulter.org', 'reckersau.blogspot.com', 'shrillblog.blogspot.com', 'bluegoldfish.blogs.com/surface', 'donaldsensing.com', 'planetdave.com/blogs.php3?mid=1', 'shininglight.us', 'angrybear.blogspot.com', 'thewashingtonnote.com', 'batr.net', 'hillcountryviews.blogspot.com', 'the-goddess.org', 'lightupthedarkness.org/blog/default.asp', 'atrios.blogspot.com/ ', 'masononline.biz', 'flyinspacemonkey.mu.nu', 'theradiomansays.blogspot.com', 'timblair.net', 'valuerightnews.blogspot.com', 'rightwingthinking.blogspot.com', 'conservativepunk.com', 'tbogg.blogspot.com', 'diypolitics.blogdrive.com', 'tokenyoungconservative.blogspot.com', 'shakespearessister.blogspot.com', 'dogfight04.typepad.com', 'thelucideye.blogspot.com', 'oxblog.blogspot.com', 'poliblogger.com', 'lucianne.com', 'buzzmachine.com', 'markadams.blogdrive.com', 'rockpaperscissor.blogspot.com', 'obamablog.com', 'dmobley.blogspot.com', 'kushreport.com', 'tinylittledots.com', 'myducksoup.com/blog/bloglib/bloglib.shtml', 'americancommentator.blogs.com/the_american_commentator_', 'politicaldogs.org', 'saveoursenate.blogspot.com', 'kimdutoit.com/dr/weblog.php', 'chak.org/blog', 'journals.aol.com/mark24609/myblog', 'c-pol.blogspot.com', 'thomasblog.typepad.com/bloggg', 'lefti.blogspot.com', 'blog.so-amazing.net', 'margieburns.com', 'progressiveink.com', 'robot-invasion.com', 'onthewire.blogspot.com', 'antiprotester.blogspot.com', 'chepooka.com', 'uggabugga.blogspot.com', 'blog.johnkerry.com', 'bittersweetme.net/blog/index.php', 'theunderscore.blogspot.com', 'left2right.typepad.com', 'amliberal.com/blog', 'achingandspinning.blogspot.com', 'workingpapers.blogspot.com', 'mattresspolice.com', 'blog.nam.org', 'sneakeasysjoint.com', 'gwbblows.blogspot.com', 'global-equality.org/news/blog/index.shtml', 'powervacuum.org', 'boloboffin.blogspot.com', 'americanwarmonger.blogspot.com', 'neonbrainiac.nu/mt/blog', 'reporterette.com', 'rightwingtroll.blogspot.com', 'ogresview.blogspot.com', 'nickgerman.blogspot.com', 'worldonfire.typepad.com/world_on_fire', 'home.earthlink.net/~techservant', 'poweragerambleson.blogspot.com', 'respublica2004.blogspot.com', 'upper-left.blogspot.com', 'georgewbush.com/blog', 'therustybarrel.com/david/blog', 'loveamericahatebush.com', 'strangesemantics.blogspot.com', 'wholewheatblogger.com', 'secureliberty.org/', 'nuntius.blogspot.com', 'stealthebandwagon.blogspot.com', 'democrants.blogspot.com', 'rockthrower.blogs.com/rockthrower', 'busybusybusy.com', 'snooty.binaryclub.com/wp-rdf.php', 'blog.ncsweb.us', 'punditz.journalspace.com', 'leftthought.blogspot.com', 'rebelrouser.net/v-web/b2/index.php', 'mrleft.org', 'voiceofthewebb.blogspot.com', 'thecore4.com', 'blog.dennisfox.net', 'bensgtusmc.com', 'salestaxusa.com', 'thedispatch.blogspot.com', 'ikilledcheguevara.blogspot.com', 'changeforamerica.com/blog', 'ludovicspeaks.typepad.com', 'realclearpolitics.com', 'joshferguson.blogspot.com', 'yarsrevenge.blogspot.com', 'obrien4.net/probitus', 'riverbendblog.blogspot.com', 'takeaction.blog-city.com', 'lennonreport.blogspot.com', 'moxiegrrrl.com', 'mstabile.blogspot.com', 'tomdaschle.com/tom/index.php?id=34', 'isdl.blogspot.com', 'awideawake.blogspot.com', 'hipublican.com', 'pinkofeministhellcat.typepad.com/pinko_feminist_hellcat', 'juandejesus.50megs.com/juancomments.html', 'brianlarry.com', 'belmontclub.blogspot.com', 'miss-sassafras.com', 'myleftthoughts.blogspot.com', 'r2korn.blogdrive.com', 'the-hamster.com', 'peacegarden.blogspot.com', 'realordeal.blogspot.com', 'ackackack.com', 'sharedthought.com/weblog', 'anarchyxero.robfindlay.org', 'indcjournal.com', 'thinkingright.us', 'louisville.edu/~bebusc02/blog/notarobot.html', 'livejournal.com/~ladywriter_mts', 'thepoorman.net', 'rantingred.blogspot.com', 'instapundit.com', 'dissectleft.blogspot.com', 'jenjuskhan.blogspot.com', 'roseoftheknights.com/yank/pride.html', 'nashvilletruth.blogspot.com', 'viewfromtonka.blogspot.com', 'kevincourser.blogspot.com', 'liberaloasis.com', 'raincrossblog.com', 'conservativelife.com/blog', 'whatsakyer.blogspot.com', 'aldaynet.org', 'discourse.net', 'politicaltracker.com/blog/weblog.php', 'michaelberube.com', 'dailyblurb.blogspot.com', 'crooksandliars.com', 'atease.blogspot.com', 'theurbangrind.blogspot.com', 'right-thinking.com', 'mydamascusroad.blogspot.com'))"
      ]
     },
     "execution_count": 15,
     "metadata": {},
     "output_type": "execute_result"
    }
   ],
   "source": [
    "G2 = nx.read_gml('blogs.gml')\n",
    "# G2.nodes()"
   ]
  },
  {
   "cell_type": "markdown",
   "metadata": {},
   "source": [
    "### Question 5\n",
    "\n",
    "Apply the Scaled Page Rank Algorithm to this network. Find the Page Rank of node 'realclearpolitics.com' with damping value 0.85.\n",
    "\n",
    "*This function should return a float.*"
   ]
  },
  {
   "cell_type": "code",
   "execution_count": 16,
   "metadata": {},
   "outputs": [
    {
     "data": {
      "text/plain": [
       "0.004636694781649094"
      ]
     },
     "execution_count": 16,
     "metadata": {},
     "output_type": "execute_result"
    }
   ],
   "source": [
    "def answer_five():\n",
    "        \n",
    "    # Your Code Here\n",
    "    pr = nx.pagerank(G2, alpha=0.85)\n",
    "    return pr['realclearpolitics.com']\n",
    "# answer_five()"
   ]
  },
  {
   "cell_type": "markdown",
   "metadata": {},
   "source": [
    "### Question 6\n",
    "\n",
    "Apply the Scaled Page Rank Algorithm to this network with damping value 0.85. Find the 5 nodes with highest Page Rank. \n",
    "\n",
    "*This function should return a list of the top 5 blogs in desending order of Page Rank.*"
   ]
  },
  {
   "cell_type": "code",
   "execution_count": 17,
   "metadata": {},
   "outputs": [
    {
     "data": {
      "text/plain": [
       "['dailykos.com',\n",
       " 'atrios.blogspot.com',\n",
       " 'instapundit.com',\n",
       " 'blogsforbush.com',\n",
       " 'talkingpointsmemo.com']"
      ]
     },
     "execution_count": 17,
     "metadata": {},
     "output_type": "execute_result"
    }
   ],
   "source": [
    "def answer_six():\n",
    "        \n",
    "    # Your Code Here\n",
    "    pr = nx.pagerank(G2, alpha=0.85)\n",
    "    return sorted(pr.keys(), key=lambda key:pr[key], reverse=True)[:5]\n",
    "# answer_six()"
   ]
  },
  {
   "cell_type": "markdown",
   "metadata": {
    "collapsed": true
   },
   "source": [
    "### Question 7\n",
    "\n",
    "Apply the HITS Algorithm to the network to find the hub and authority scores of node 'realclearpolitics.com'. \n",
    "\n",
    "*Your result should return a tuple of floats `(hub_score, authority_score)`.*"
   ]
  },
  {
   "cell_type": "code",
   "execution_count": 18,
   "metadata": {},
   "outputs": [
    {
     "data": {
      "text/plain": [
       "(0.0003243556140916672, 0.003918957645699851)"
      ]
     },
     "execution_count": 18,
     "metadata": {},
     "output_type": "execute_result"
    }
   ],
   "source": [
    "def answer_seven():\n",
    "        \n",
    "    # Your Code Here\n",
    "    hits = nx.hits(G2)\n",
    "    node = 'realclearpolitics.com'\n",
    "    return hits[0][node], hits[1][node]\n",
    "# answer_seven()"
   ]
  },
  {
   "cell_type": "markdown",
   "metadata": {
    "collapsed": true
   },
   "source": [
    "### Question 8 \n",
    "\n",
    "Apply the HITS Algorithm to this network to find the 5 nodes with highest hub scores.\n",
    "\n",
    "*This function should return a list of the top 5 blogs in desending order of hub scores.*"
   ]
  },
  {
   "cell_type": "code",
   "execution_count": 19,
   "metadata": {},
   "outputs": [
    {
     "data": {
      "text/plain": [
       "['politicalstrategy.org',\n",
       " 'madkane.com/notable.html',\n",
       " 'liberaloasis.com',\n",
       " 'stagefour.typepad.com/commonprejudice',\n",
       " 'bodyandsoul.typepad.com']"
      ]
     },
     "execution_count": 19,
     "metadata": {},
     "output_type": "execute_result"
    }
   ],
   "source": [
    "def answer_eight():\n",
    "        \n",
    "    # Your Code Here\n",
    "    hits = nx.hits(G2)\n",
    "    hubs = hits[0]\n",
    "    return sorted(hubs.keys(), key=lambda key:hubs[key], reverse=True)[:5]\n",
    "# answer_eight()"
   ]
  },
  {
   "cell_type": "markdown",
   "metadata": {},
   "source": [
    "### Question 9 \n",
    "\n",
    "Apply the HITS Algorithm to this network to find the 5 nodes with highest authority scores.\n",
    "\n",
    "*This function should return a list of the top 5 blogs in desending order of authority scores.*"
   ]
  },
  {
   "cell_type": "code",
   "execution_count": 20,
   "metadata": {},
   "outputs": [
    {
     "data": {
      "text/plain": [
       "['dailykos.com',\n",
       " 'talkingpointsmemo.com',\n",
       " 'atrios.blogspot.com',\n",
       " 'washingtonmonthly.com',\n",
       " 'talkleft.com']"
      ]
     },
     "execution_count": 20,
     "metadata": {},
     "output_type": "execute_result"
    }
   ],
   "source": [
    "def answer_nine():\n",
    "        \n",
    "    # Your Code Here\n",
    "    hits = nx.hits(G2)\n",
    "    authorities = hits[1]\n",
    "    return sorted(authorities.keys(), key=lambda key:authorities[key], reverse=True)[:5]\n",
    "# answer_nine()"
   ]
  },
  {
   "cell_type": "code",
   "execution_count": null,
   "metadata": {},
   "outputs": [],
   "source": []
  }
 ],
 "metadata": {
  "coursera": {
   "course_slug": "python-social-network-analysis",
   "graded_item_id": "4XCse",
   "launcher_item_id": "utvmz",
   "part_id": "cZ7Jg"
  },
  "kernelspec": {
   "display_name": "Python 3",
   "language": "python",
   "name": "python3"
  },
  "language_info": {
   "codemirror_mode": {
    "name": "ipython",
    "version": 3
   },
   "file_extension": ".py",
   "mimetype": "text/x-python",
   "name": "python",
   "nbconvert_exporter": "python",
   "pygments_lexer": "ipython3",
   "version": "3.7.3"
  }
 },
 "nbformat": 4,
 "nbformat_minor": 2
}
